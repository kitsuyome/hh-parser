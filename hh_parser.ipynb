{
  "cells": [
    {
      "cell_type": "markdown",
      "metadata": {
        "id": "5wvO9nt9teXY"
      },
      "source": [
        "# Парсер HeadHunter"
      ]
    },
    {
      "cell_type": "markdown",
      "metadata": {
        "id": "7wFtD_9rteXs"
      },
      "source": [
        "### Импорт библиотек"
      ]
    },
    {
      "cell_type": "code",
      "execution_count": null,
      "metadata": {
        "id": "ZbSoOdZDteXu"
      },
      "outputs": [],
      "source": [
        "import requests \n",
        "import pandas as pd\n",
        "import numpy as np\n",
        "import matplotlib.pyplot as plt\n",
        "import seaborn as sns\n",
        "\n",
        "import json\n",
        "from bs4 import BeautifulSoup\n",
        "\n",
        "from datetime import datetime, timedelta\n",
        "import time\n",
        "import os\n",
        "from IPython.core.display import display, HTML, clear_output\n",
        "import ipywidgets as widgets"
      ]
    },
    {
      "cell_type": "markdown",
      "metadata": {
        "id": "RBzvgtHsteXx"
      },
      "source": [
        "### Делаем выгрузку из HeadHunter\n",
        "Ссылка на API HH: https://github.com/hhru/api \\"
      ]
    },
    {
      "cell_type": "markdown",
      "metadata": {
        "id": "nlJLjd65teXy"
      },
      "source": [
        "Создадим необходимые константы"
      ]
    },
    {
      "cell_type": "code",
      "execution_count": null,
      "metadata": {
        "id": "LtrpZ2_bteX0"
      },
      "outputs": [],
      "source": [
        "vacancies_df = pd.DataFrame()\n",
        "base_url = \"https://api.hh.ru/\"\n",
        "\n",
        "text = f'NAME:({input()})'\n",
        "\n",
        "dt_now = datetime.now().date()\n",
        "dt_from = dt_now - timedelta(days=7)\n",
        "date_to = dt_now.isoformat()\n",
        "date_from = dt_from.isoformat()\n",
        "\n",
        "req_url = base_url + f'vacancies?text={text}&date_from={date_from}&date_to={date_to}&responses_count_enabled=True&per_page=100'"
      ]
    },
    {
      "cell_type": "markdown",
      "metadata": {
        "id": "9Qq8kIshteX5"
      },
      "source": [
        "В выдаче API HH нет опыта работы, поэтому мы укажем его в запросе самостоятельно:\\\n",
        "Можно выбрать подходящий. "
      ]
    },
    {
      "cell_type": "code",
      "execution_count": null,
      "metadata": {
        "id": "fAiPx6YbteX6"
      },
      "outputs": [],
      "source": [
        "experiences = ['noExperience',\n",
        "               'between1And3',\n",
        "               'between3And6', \n",
        "               'moreThan6']"
      ]
    },
    {
      "cell_type": "markdown",
      "metadata": {
        "id": "P5U_W09lteX7"
      },
      "source": [
        "#### Напишем цикл для направления запросов к API (в 3 этапа: get, json и перебор страниц)"
      ]
    },
    {
      "cell_type": "code",
      "execution_count": null,
      "metadata": {
        "id": "IonnxczzteX8"
      },
      "outputs": [],
      "source": [
        "for exp in experiences:\n",
        "  page = 0\n",
        "  url = req_url + f'&experience={exp}'\n",
        "  try:\n",
        "    r = requests.get(url + f'&page={page}')\n",
        "    data = json.loads(r.text)\n",
        "    print(exp, '-', data['pages'])\n",
        "    items = data['items']\n",
        "\n",
        "    for page in range(1, data['pages']): \n",
        "      r = requests.get(url + f'&page={page}')\n",
        "      data = json.loads(r.text)\n",
        "      items += data['items']  \n",
        "    df = pd.DataFrame(items)\n",
        "    df['experience'] = exp \n",
        "    vacancies_df = pd.concat([vacancies_df, df], ignore_index=True)\n",
        "  except Exception as e: \n",
        "    print(exp, '-', e)\n",
        "    time.sleep(10)"
      ]
    },
    {
      "cell_type": "code",
      "execution_count": null,
      "metadata": {
        "id": "cavqvG7m4bpM"
      },
      "outputs": [],
      "source": [
        "vacancies_df.head(5)"
      ]
    },
    {
      "cell_type": "code",
      "source": [
        "vacancies_df.info()"
      ],
      "metadata": {
        "id": "_9zaiK7s5R2l"
      },
      "execution_count": null,
      "outputs": []
    },
    {
      "cell_type": "markdown",
      "metadata": {
        "id": "Sa94wY5zteX8"
      },
      "source": [
        "### Вытащим ценную информацию из словарей"
      ]
    },
    {
      "cell_type": "markdown",
      "metadata": {
        "id": "hCEfcZdVteX9"
      },
      "source": [
        "Напишем функцию"
      ]
    },
    {
      "cell_type": "code",
      "execution_count": null,
      "metadata": {
        "id": "TTC7agLFteX9"
      },
      "outputs": [],
      "source": [
        "def return_id(x, key = 'id', nan_value = np.nan):\n",
        "  try:\n",
        "    return x[key]\n",
        "  except Exception as e:\n",
        "    return nan_value"
      ]
    },
    {
      "cell_type": "markdown",
      "metadata": {
        "id": "7feq2K_eteX9"
      },
      "source": [
        "Вытащим желаемые данные. Применим нашу функцию с помощью apply"
      ]
    },
    {
      "cell_type": "code",
      "execution_count": null,
      "metadata": {
        "id": "jSj9pf7IteX-"
      },
      "outputs": [],
      "source": [
        "vacancies_df['employer_name'] = vacancies_df['employer'].apply(return_id, \n",
        "                                                               key = 'name')\n",
        "vacancies_df['department_name'] = vacancies_df['department'].apply(return_id, \n",
        "                                                               key = 'name')\n",
        "vacancies_df['salary_from'] = vacancies_df['salary'].apply(return_id, key = 'from') \n",
        "vacancies_df['salary_to'] = vacancies_df['salary'].apply(return_id, key = 'to') \n",
        "vacancies_df['salary_gross'] = vacancies_df['salary'].apply(return_id, key = 'gross') \n",
        "vacancies_df['salary_currency'] = vacancies_df['salary'].apply(return_id, key = 'currency')\n",
        "vacancies_df['responses'] = vacancies_df['counters'].apply(return_id, key = 'responses')\n",
        "vacancies_df['city'] = vacancies_df['area'].apply(return_id, key = 'name')"
      ]
    },
    {
      "cell_type": "code",
      "source": [
        "vacancies_df.info()"
      ],
      "metadata": {
        "id": "yqYhWy0Y9VFO"
      },
      "execution_count": null,
      "outputs": []
    },
    {
      "cell_type": "markdown",
      "metadata": {
        "id": "i6Ioqa9pteX-"
      },
      "source": [
        "### Посмотрим компании, предлагающие вакансии, а также города"
      ]
    },
    {
      "cell_type": "code",
      "execution_count": null,
      "metadata": {
        "id": "LWBtQSJkteX_"
      },
      "outputs": [],
      "source": [
        "vacancies_df['employer_name'].value_counts().head(10).plot(kind='bar')"
      ]
    },
    {
      "cell_type": "code",
      "execution_count": null,
      "metadata": {
        "id": "TP68_r9jteX_"
      },
      "outputs": [],
      "source": [
        "vacancies_df['city'].value_counts().head(10).plot(kind='bar')"
      ]
    },
    {
      "cell_type": "markdown",
      "metadata": {
        "id": "1SIakn9xteYA"
      },
      "source": [
        "### Что с зарплатой?"
      ]
    },
    {
      "cell_type": "code",
      "execution_count": null,
      "metadata": {
        "id": "ZO9fLX9ZteYA"
      },
      "outputs": [],
      "source": [
        "vacancies_df['salary_from'].isna().value_counts(normalize=True)"
      ]
    },
    {
      "cell_type": "code",
      "execution_count": null,
      "metadata": {
        "id": "rs3lMjdqteYA"
      },
      "outputs": [],
      "source": [
        "vacancies_df['salary_to'].isna().value_counts(normalize=True)"
      ]
    },
    {
      "cell_type": "code",
      "execution_count": null,
      "metadata": {
        "id": "3nhXLRYAteYA"
      },
      "outputs": [],
      "source": [
        "vacancies_df['salary_currency'].value_counts(normalize=True)"
      ]
    },
    {
      "cell_type": "code",
      "execution_count": null,
      "metadata": {
        "id": "mb-48HggteYA"
      },
      "outputs": [],
      "source": [
        "salaries = vacancies_df.query(\"salary_currency == 'RUR' and experience in ['noExperience','between1And3']\").groupby(\n",
        "    ['employer_name']).mean()['salary_to'].reset_index()"
      ]
    },
    {
      "cell_type": "code",
      "execution_count": null,
      "metadata": {
        "id": "h4kocL6SteYB"
      },
      "outputs": [],
      "source": [
        "salaries_top = salaries.sort_values(by='salary_to', ascending=False, na_position='last')\n",
        "salaries_top.head(10)"
      ]
    },
    {
      "cell_type": "markdown",
      "metadata": {
        "id": "QWvjS_5OteYB"
      },
      "source": [
        "Визуализируем с помощью seaborn"
      ]
    },
    {
      "cell_type": "code",
      "execution_count": null,
      "metadata": {
        "id": "st0DAhZkteYB"
      },
      "outputs": [],
      "source": [
        "sns.set(style='whitegrid')\n",
        "fig, ax = plt.subplots(sharex=True, sharey=True, figsize=(10,7))          \n",
        "title = 'График зарплат (от)'\n",
        "fig.suptitle(title)\n",
        "plt.xticks(rotation=90)\n",
        "sns.barplot(data=salaries_top.head(10).sort_values(by='salary_to', ascending=False), x='employer_name', y='salary_to', color='lightblue', ax=ax)"
      ]
    },
    {
      "cell_type": "markdown",
      "metadata": {
        "id": "DY0iIyaeteYC"
      },
      "source": [
        "### Давайте поищем вакансии"
      ]
    },
    {
      "cell_type": "markdown",
      "metadata": {
        "id": "9JkhAN3pteYC"
      },
      "source": [
        "Сделаем срез по городам, например.\n",
        "\n",
        "Дадим пользователю право выбрать нужный ему город"
      ]
    },
    {
      "cell_type": "code",
      "execution_count": null,
      "metadata": {
        "id": "hvUPSxohteYD"
      },
      "outputs": [],
      "source": [
        "city_vacs = vacancies_df[vacancies_df['city'] == input()]"
      ]
    },
    {
      "cell_type": "markdown",
      "metadata": {
        "id": "oIDY-Nr4teYD"
      },
      "source": [
        "### Посмотрим содержание вакансий"
      ]
    },
    {
      "cell_type": "markdown",
      "metadata": {
        "id": "LjeddlE8teYE"
      },
      "source": [
        "Сделаем срез вакансий по интересному нам опыту"
      ]
    },
    {
      "cell_type": "code",
      "execution_count": null,
      "metadata": {
        "id": "sGTDEIVHteYE"
      },
      "outputs": [],
      "source": [
        "vacs_df = city_vacs.copy().reset_index(drop=True).query(\"experience in ['noExperience', 'between1And3']\")"
      ]
    },
    {
      "cell_type": "code",
      "execution_count": null,
      "metadata": {
        "id": "T0fZDEnWteYE"
      },
      "outputs": [],
      "source": [
        "vacs_df.head(10)"
      ]
    },
    {
      "cell_type": "markdown",
      "metadata": {
        "id": "DeuD-Lh7teYE"
      },
      "source": [
        "Выведем адреса"
      ]
    },
    {
      "cell_type": "code",
      "execution_count": null,
      "metadata": {
        "id": "LjR8gEiDteYE"
      },
      "outputs": [],
      "source": [
        "vacs_df['url'].head()"
      ]
    },
    {
      "cell_type": "markdown",
      "metadata": {
        "id": "kYvW3s1DteYF"
      },
      "source": [
        "С помощью библиотек json и requests получим нужную информацию, добавим магии и обобразим HTML"
      ]
    },
    {
      "cell_type": "code",
      "execution_count": null,
      "metadata": {
        "id": "21wSlYsWteYF"
      },
      "outputs": [],
      "source": [
        "HTML(json.loads(requests.get('https://api.hh.ru/vacancies/66920100?host=hh.ru').text)['description'])"
      ]
    },
    {
      "cell_type": "markdown",
      "metadata": {
        "id": "wNjKEOL4teYG"
      },
      "source": [
        "Сохраним информацию в читаемом виде. С помощью библиотеки BeautifulSoup извлечем данные из HTML"
      ]
    },
    {
      "cell_type": "code",
      "execution_count": null,
      "metadata": {
        "id": "E14ImZ-zteYG"
      },
      "outputs": [],
      "source": [
        "vacs = vacs_df['url'].apply(lambda x: HTML(json.loads(requests.get(x).text)['description']))"
      ]
    },
    {
      "cell_type": "code",
      "source": [
        "vacs = vacs_df['url'].apply(lambda x: BeautifulSoup(json.loads(requests.get(x).text)['description']).get_text())"
      ],
      "metadata": {
        "id": "px1M1sTyKbKL"
      },
      "execution_count": null,
      "outputs": []
    },
    {
      "cell_type": "markdown",
      "metadata": {
        "id": "3YlqhngbteYG"
      },
      "source": [
        "### Добавим кнопку"
      ]
    },
    {
      "cell_type": "code",
      "execution_count": null,
      "metadata": {
        "id": "3A7yk9V4teYH"
      },
      "outputs": [],
      "source": [
        "button = widgets.Button(description='Click me')\n",
        "output = widgets.Output()\n",
        "\n",
        "display(button, output) \n",
        "counter = 0 \n",
        "\n",
        "def clickme(b):\n",
        "  with output:\n",
        "    try:\n",
        "      global counter\n",
        "      clear_output()\n",
        "      print('Вакансии: ', counter)\n",
        "      display(HTML(\"<h1>\" + str(vacs_df['name'][counter])+ ' в ' + str(vacs_df['employer_name'][counter]) + \"</h1>\"))\n",
        "      display(vacs[counter])\n",
        "      display(HTML('<a href=\"' + str(vacs_df['alternate_url'][counter]) + '\" target = \"_blank\">Ссылка на вакансию </a>'))\n",
        "      counter += 1\n",
        "    except Exception as e:\n",
        "      print('Вакансии закончились')\n",
        "button.on_click(clickme)"
      ]
    }
  ],
  "metadata": {
    "colab": {
      "provenance": []
    },
    "kernelspec": {
      "display_name": "Python 3",
      "language": "python",
      "name": "python3"
    },
    "language_info": {
      "codemirror_mode": {
        "name": "ipython",
        "version": 3
      },
      "file_extension": ".py",
      "mimetype": "text/x-python",
      "name": "python",
      "nbconvert_exporter": "python",
      "pygments_lexer": "ipython3",
      "version": "3.8.1"
    }
  },
  "nbformat": 4,
  "nbformat_minor": 0
}